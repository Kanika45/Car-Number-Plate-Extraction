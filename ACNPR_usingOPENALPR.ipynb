{
 "cells": [
  {
   "cell_type": "code",
   "execution_count": 3,
   "metadata": {},
   "outputs": [],
   "source": [
    "#!/usr/bin/python\n",
    "# the key to this API has expired now here\n",
    "import requests\n",
    "import base64\n",
    "import json\n",
    "import glob\n",
    "import csv\n",
    "\n",
    "\n",
    "# Sample image file is available at http://plates.openalpr.com/ea7the.jpg\n",
    "IMAGE_PATH = \"./carimages/h/*.jpg\"\n",
    "api_key = 'sk_ed63714b50b047f3c8b1942b'\n",
    "\n",
    "for img in glob.glob('C://Users/KANIKA/carimages/G/*.jpg'):\n",
    "    with open(img, 'rb') as image_file:\n",
    "        img_base64 = base64.b64encode(image_file.read())\n",
    "\n",
    "        url = 'https://api.openalpr.com/v2/recognize_bytes?recognize_vehicle=1&country=us&secret_key=%s' % (SECRET_KEY)\n",
    "        r = requests.post(url, data = img_base64)\n",
    "        \n",
    "        data = r.json()\n",
    "        #print(data['results'].pop()['plate'])\n",
    "        print(json.dumps(data, indent=2))\n",
    "            #print (data['results'][{'plate'}])\n",
    "            #print (data['results'].pop()[{'plate'}])\n",
    "        print('here i am , this is me ')\n",
    "            \n",
    "\n",
    "\n",
    "\n"
   ]
  },
  {
   "cell_type": "code",
   "execution_count": null,
   "metadata": {},
   "outputs": [],
   "source": []
  }
 ],
 "metadata": {
  "kernelspec": {
   "display_name": "Python 3",
   "language": "python",
   "name": "python3"
  },
  "language_info": {
   "codemirror_mode": {
    "name": "ipython",
    "version": 3
   },
   "file_extension": ".py",
   "mimetype": "text/x-python",
   "name": "python",
   "nbconvert_exporter": "python",
   "pygments_lexer": "ipython3",
   "version": "3.6.5"
  }
 },
 "nbformat": 4,
 "nbformat_minor": 2
}
